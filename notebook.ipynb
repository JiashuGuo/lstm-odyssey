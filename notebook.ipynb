{
 "cells": [
  {
   "cell_type": "code",
   "execution_count": 234,
   "metadata": {
    "collapsed": false
   },
   "outputs": [],
   "source": [
    "from __future__ import absolute_import\n",
    "from __future__ import division\n",
    "from __future__ import print_function\n",
    "\n",
    "import time\n",
    "\n",
    "import numpy as np\n",
    "import tensorflow as tf\n",
    "\n",
    "from tensorflow.models.rnn import seq2seq\n",
    "\n",
    "from lstm_search.vanilla import VanillaLSTMCell\n",
    "from lstm_search.nog import NOGLSTMCell\n",
    "from lstm_search.nfg import NFGLSTMCell\n",
    "from lstm_search.nig import NIGLSTMCell\n",
    "from lstm_search.niaf import NIAFLSTMCell\n",
    "from lstm_search.noaf import NOAFLSTMCell\n",
    "from lstm_search.cifg import CIFGLSTMCell\n",
    "from lstm_search.np import NPLSTMCell\n",
    "from lstm_search.fgr import FGRLSTMCell\n",
    "\n",
    "import ptb_reader"
   ]
  },
  {
   "cell_type": "code",
   "execution_count": 235,
   "metadata": {
    "collapsed": true
   },
   "outputs": [],
   "source": [
    "raw_data = ptb_reader.ptb_raw_data(\"datasets/ptb\")\n",
    "train_data, valid_data, test_data, _ = raw_data"
   ]
  },
  {
   "cell_type": "code",
   "execution_count": 236,
   "metadata": {
    "collapsed": true
   },
   "outputs": [],
   "source": [
    "batch_size = 30\n",
    "num_steps = 20\n",
    "hidden_size = 200\n",
    "vocab_size = 10000\n",
    "learning_rate = 1e-1\n",
    "momentum = 0.9\n",
    "max_grad_norm = 5\n",
    "num_epochs = 10"
   ]
  },
  {
   "cell_type": "code",
   "execution_count": 237,
   "metadata": {
    "collapsed": true
   },
   "outputs": [],
   "source": [
    "def run_epoch(data_iterator, data_size, input_data, targets, init_state, ops):\n",
    "    epoch_size = ((data_size // batch_size) - 1) // num_steps\n",
    "    start_time = time.time()\n",
    "    costs = 0.0\n",
    "    iters = 0\n",
    "    next_state = init_state.eval()\n",
    "\n",
    "    for step, (x, y) in enumerate(data_iterator):\n",
    "        cost, state, _ = sess.run(ops, {\n",
    "            input_data: x,\n",
    "            targets: y,\n",
    "            init_state: next_state\n",
    "        })\n",
    "        \n",
    "        next_state = state\n",
    "\n",
    "        costs += cost\n",
    "        iters += num_steps\n",
    "\n",
    "        perplexity = np.exp(costs / iters)\n",
    "        wps = (iters * batch_size) / (time.time() - start_time)\n",
    "\n",
    "        if step % 10 == 0:\n",
    "            print(\"%.1f%% perplexity: %.3f %.0f\" % ((step / epoch_size) * 100, perplexity, wps))\n",
    "            \n",
    "    return perplexity"
   ]
  },
  {
   "cell_type": "code",
   "execution_count": 238,
   "metadata": {
    "collapsed": false,
    "scrolled": false
   },
   "outputs": [
    {
     "ename": "NameError",
     "evalue": "global name 'tf' is not defined",
     "output_type": "error",
     "traceback": [
      "\u001b[0;31m---------------------------------------------------------------------------\u001b[0m",
      "\u001b[0;31mNameError\u001b[0m                                 Traceback (most recent call last)",
      "\u001b[0;32m<ipython-input-238-60649a0663e8>\u001b[0m in \u001b[0;36m<module>\u001b[0;34m()\u001b[0m\n\u001b[1;32m     27\u001b[0m                 \u001b[0mtf\u001b[0m\u001b[0;34m.\u001b[0m\u001b[0mget_variable_scope\u001b[0m\u001b[0;34m(\u001b[0m\u001b[0;34m)\u001b[0m\u001b[0;34m.\u001b[0m\u001b[0mreuse_variables\u001b[0m\u001b[0;34m(\u001b[0m\u001b[0;34m)\u001b[0m\u001b[0;34m\u001b[0m\u001b[0m\n\u001b[1;32m     28\u001b[0m \u001b[0;34m\u001b[0m\u001b[0m\n\u001b[0;32m---> 29\u001b[0;31m             \u001b[0mcell_output\u001b[0m\u001b[0;34m,\u001b[0m \u001b[0mstate\u001b[0m \u001b[0;34m=\u001b[0m \u001b[0mlstm_cell\u001b[0m\u001b[0;34m(\u001b[0m\u001b[0minputs\u001b[0m\u001b[0;34m[\u001b[0m\u001b[0;34m:\u001b[0m\u001b[0;34m,\u001b[0m\u001b[0mtime_step\u001b[0m\u001b[0;34m,\u001b[0m\u001b[0;34m:\u001b[0m\u001b[0;34m]\u001b[0m\u001b[0;34m,\u001b[0m \u001b[0mstate\u001b[0m\u001b[0;34m)\u001b[0m\u001b[0;34m\u001b[0m\u001b[0m\n\u001b[0m\u001b[1;32m     30\u001b[0m \u001b[0;34m\u001b[0m\u001b[0m\n\u001b[1;32m     31\u001b[0m             \u001b[0moutputs\u001b[0m\u001b[0;34m.\u001b[0m\u001b[0mappend\u001b[0m\u001b[0;34m(\u001b[0m\u001b[0mcell_output\u001b[0m\u001b[0;34m)\u001b[0m\u001b[0;34m\u001b[0m\u001b[0m\n",
      "\u001b[0;32m/Users/jim/Documents/notebooks/lstm_search/vanilla.py\u001b[0m in \u001b[0;36m__call__\u001b[0;34m(self, inputs, state, scope)\u001b[0m\n\u001b[1;32m     18\u001b[0m \u001b[0;34m\u001b[0m\u001b[0m\n\u001b[1;32m     19\u001b[0m     \u001b[0;32mdef\u001b[0m \u001b[0m__call__\u001b[0m\u001b[0;34m(\u001b[0m\u001b[0mself\u001b[0m\u001b[0;34m,\u001b[0m \u001b[0minputs\u001b[0m\u001b[0;34m,\u001b[0m \u001b[0mstate\u001b[0m\u001b[0;34m,\u001b[0m \u001b[0mscope\u001b[0m\u001b[0;34m=\u001b[0m\u001b[0mNone\u001b[0m\u001b[0;34m)\u001b[0m\u001b[0;34m:\u001b[0m\u001b[0;34m\u001b[0m\u001b[0m\n\u001b[0;32m---> 20\u001b[0;31m         \u001b[0;32mwith\u001b[0m \u001b[0mtf\u001b[0m\u001b[0;34m.\u001b[0m\u001b[0mvariable_scope\u001b[0m\u001b[0;34m(\u001b[0m\u001b[0mscope\u001b[0m \u001b[0;32mor\u001b[0m \u001b[0mtype\u001b[0m\u001b[0;34m(\u001b[0m\u001b[0mself\u001b[0m\u001b[0;34m)\u001b[0m\u001b[0;34m.\u001b[0m\u001b[0m__name__\u001b[0m\u001b[0;34m)\u001b[0m\u001b[0;34m:\u001b[0m\u001b[0;34m\u001b[0m\u001b[0m\n\u001b[0m\u001b[1;32m     21\u001b[0m             \u001b[0minitializer\u001b[0m \u001b[0;34m=\u001b[0m \u001b[0mtf\u001b[0m\u001b[0;34m.\u001b[0m\u001b[0mrandom_uniform_initializer\u001b[0m\u001b[0;34m(\u001b[0m\u001b[0;34m-\u001b[0m\u001b[0;36m0.1\u001b[0m\u001b[0;34m,\u001b[0m \u001b[0;36m0.1\u001b[0m\u001b[0;34m)\u001b[0m\u001b[0;34m\u001b[0m\u001b[0m\n\u001b[1;32m     22\u001b[0m \u001b[0;34m\u001b[0m\u001b[0m\n",
      "\u001b[0;31mNameError\u001b[0m: global name 'tf' is not defined"
     ]
    }
   ],
   "source": [
    "with tf.Graph().as_default(), tf.Session() as sess:\n",
    "    # initializer used for reusable variable initializer (see `get_variable`)\n",
    "    initializer = tf.random_uniform_initializer(-0.1, 0.1)\n",
    "\n",
    "    # setup our inputs and target outputs\n",
    "    input_data = tf.placeholder(tf.int32, [batch_size, num_steps])\n",
    "    targets = tf.placeholder(tf.int32, [batch_size, num_steps])\n",
    "\n",
    "    lstm_cell = VanillaLSTMCell(hidden_size)\n",
    "    init_state = lstm_cell.zero_state(batch_size, tf.float32)\n",
    "\n",
    "    # define embeddeding\n",
    "    embedding = tf.get_variable(\"embedding\",\n",
    "                                [vocab_size, hidden_size],\n",
    "                                initializer=initializer)\n",
    "    inputs = tf.nn.embedding_lookup(embedding, input_data)\n",
    "\n",
    "    # unroll our RNN by creating variables for each time-step:\n",
    "    # by using `reuse_variables` we're sharing the appropriate\n",
    "    # variables between each step\n",
    "    outputs = []\n",
    "    states = []\n",
    "    state = init_state\n",
    "    with tf.variable_scope(\"RNN\"):\n",
    "        for time_step in range(num_steps):\n",
    "            if time_step > 0:\n",
    "                tf.get_variable_scope().reuse_variables()\n",
    "\n",
    "            cell_output, state = lstm_cell(inputs[:,time_step,:], state)\n",
    "\n",
    "            outputs.append(cell_output)\n",
    "            states.append(state)\n",
    "    last_state = states[-1]\n",
    "\n",
    "    # define fully-connected layer\n",
    "    output = tf.reshape(tf.concat(1, outputs), [-1, hidden_size])\n",
    "    logits = tf.nn.xw_plus_b(output,\n",
    "                             tf.get_variable(\"softmax_w\",\n",
    "                                             [hidden_size, vocab_size],\n",
    "                                             initializer=initializer),\n",
    "                             tf.get_variable(\"softmax_b\",\n",
    "                                             [vocab_size],\n",
    "                                             initializer=initializer))\n",
    "\n",
    "    # define loss\n",
    "    loss = seq2seq.sequence_loss_by_example([logits],\n",
    "                                            [tf.reshape(targets, [-1])],\n",
    "                                            [tf.ones([batch_size * num_steps])],\n",
    "                                            vocab_size)\n",
    "    cost_op = tf.reduce_sum(loss) / batch_size\n",
    "\n",
    "    # define optimizer and gradient clipping\n",
    "    tvars = tf.trainable_variables()\n",
    "    grads, _ = tf.clip_by_global_norm(tf.gradients(cost_op, tvars), max_grad_norm)\n",
    "    optimizer = tf.train.MomentumOptimizer(learning_rate, momentum)\n",
    "    train_op = optimizer.apply_gradients(zip(grads, tvars))\n",
    "\n",
    "    sess.run(tf.initialize_all_variables())\n",
    "\n",
    "    for i in range(num_epochs):\n",
    "        # training pass\n",
    "        train_iter = ptb_reader.ptb_iterator(train_data, batch_size, num_steps)\n",
    "        perplexity = run_epoch(train_iter,\n",
    "                               len(train_data),\n",
    "                               input_data, targets,\n",
    "                               init_state,\n",
    "                               [cost_op, last_state, train_op])\n",
    "        print(\"%i training complete, perplexity: %.3f\" % (i, perplexity))\n",
    "\n",
    "        # validation pass\n",
    "        valid_iter = ptb_reader.ptb_iterator(valid_data, 1, 1)\n",
    "        run_epoch(valid_iter,\n",
    "                  len(valid_data),\n",
    "                  input_data,\n",
    "                  targets,\n",
    "                  init_state,\n",
    "                  [cost_op, last_state, tf.no_op()])\n",
    "        print(\"%i validation complete, perplexity: %.3f\" % (i, perplexity))\n",
    "\n",
    "    # test pass\n",
    "    test_iter = ptb_reader.ptb_iterator(test_data, 1, 1)\n",
    "    run_epoch(test_iter,\n",
    "              len(test_data),\n",
    "              input_data,\n",
    "              targets,\n",
    "              init_state,\n",
    "              [cost_op, last_state, tf.no_op()])\n",
    "    print(\"testing complete, perplexity: %.3f\" % (perplexity,))"
   ]
  },
  {
   "cell_type": "code",
   "execution_count": null,
   "metadata": {
    "collapsed": true
   },
   "outputs": [],
   "source": []
  }
 ],
 "metadata": {
  "kernelspec": {
   "display_name": "Python 2",
   "language": "python",
   "name": "python2"
  },
  "language_info": {
   "codemirror_mode": {
    "name": "ipython",
    "version": 2
   },
   "file_extension": ".py",
   "mimetype": "text/x-python",
   "name": "python",
   "nbconvert_exporter": "python",
   "pygments_lexer": "ipython2",
   "version": "2.7.10"
  }
 },
 "nbformat": 4,
 "nbformat_minor": 0
}
